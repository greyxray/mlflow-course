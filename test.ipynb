{
 "cells": [
  {
   "cell_type": "code",
   "execution_count": 1,
   "metadata": {},
   "outputs": [
    {
     "ename": "NameError",
     "evalue": "name 'spark' is not defined",
     "output_type": "error",
     "traceback": [
      "\u001b[0;31m---------------------------------------------------------------------------\u001b[0m",
      "\u001b[0;31mNameError\u001b[0m                                 Traceback (most recent call last)",
      "\u001b[1;32m/Users/greyxray/Downloads/mlflow-course/test.ipynb Cell 1\u001b[0m line \u001b[0;36m8\n\u001b[1;32m      <a href='vscode-notebook-cell:/Users/greyxray/Downloads/mlflow-course/test.ipynb#W0sZmlsZQ%3D%3D?line=3'>4</a>\u001b[0m logged_model \u001b[39m=\u001b[39m \u001b[39m\"\u001b[39m\u001b[39mruns:/cec684c0d0b14a4f9325c3151c7085ea/model\u001b[39m\u001b[39m\"\u001b[39m\n\u001b[1;32m      <a href='vscode-notebook-cell:/Users/greyxray/Downloads/mlflow-course/test.ipynb#W0sZmlsZQ%3D%3D?line=5'>6</a>\u001b[0m \u001b[39m# Load model as a Spark UDF. Override result_type if the model does not return double values.\u001b[39;00m\n\u001b[1;32m      <a href='vscode-notebook-cell:/Users/greyxray/Downloads/mlflow-course/test.ipynb#W0sZmlsZQ%3D%3D?line=6'>7</a>\u001b[0m loaded_model \u001b[39m=\u001b[39m mlflow\u001b[39m.\u001b[39mpyfunc\u001b[39m.\u001b[39mspark_udf(\n\u001b[0;32m----> <a href='vscode-notebook-cell:/Users/greyxray/Downloads/mlflow-course/test.ipynb#W0sZmlsZQ%3D%3D?line=7'>8</a>\u001b[0m     spark, model_uri\u001b[39m=\u001b[39mlogged_model, result_type\u001b[39m=\u001b[39m\u001b[39m\"\u001b[39m\u001b[39mdouble\u001b[39m\u001b[39m\"\u001b[39m\n\u001b[1;32m      <a href='vscode-notebook-cell:/Users/greyxray/Downloads/mlflow-course/test.ipynb#W0sZmlsZQ%3D%3D?line=8'>9</a>\u001b[0m )\n\u001b[1;32m     <a href='vscode-notebook-cell:/Users/greyxray/Downloads/mlflow-course/test.ipynb#W0sZmlsZQ%3D%3D?line=10'>11</a>\u001b[0m \u001b[39m# Predict on a Spark DataFrame.\u001b[39;00m\n\u001b[1;32m     <a href='vscode-notebook-cell:/Users/greyxray/Downloads/mlflow-course/test.ipynb#W0sZmlsZQ%3D%3D?line=11'>12</a>\u001b[0m df\u001b[39m.\u001b[39mwithColumn(\u001b[39m\"\u001b[39m\u001b[39mpredictions\u001b[39m\u001b[39m\"\u001b[39m, loaded_model(struct(\u001b[39m*\u001b[39m\u001b[39mmap\u001b[39m(col, df\u001b[39m.\u001b[39mcolumns))))\n",
      "\u001b[0;31mNameError\u001b[0m: name 'spark' is not defined"
     ]
    }
   ],
   "source": [
    "import mlflow\n",
    "from pyspark.sql.functions import struct, col\n",
    "\n",
    "logged_model = \"runs:/cec684c0d0b14a4f9325c3151c7085ea/model\"\n",
    "\n",
    "# Load model as a Spark UDF. Override result_type if the model does not return double values.\n",
    "loaded_model = mlflow.pyfunc.spark_udf(\n",
    "    spark, model_uri=logged_model, result_type=\"double\"\n",
    ")\n",
    "\n",
    "# Predict on a Spark DataFrame.\n",
    "df.withColumn(\"predictions\", loaded_model(struct(*map(col, df.columns))))"
   ]
  },
  {
   "cell_type": "code",
   "execution_count": 3,
   "metadata": {},
   "outputs": [
    {
     "ename": "NameError",
     "evalue": "name 'data' is not defined",
     "output_type": "error",
     "traceback": [
      "\u001b[0;31m---------------------------------------------------------------------------\u001b[0m",
      "\u001b[0;31mNameError\u001b[0m                                 Traceback (most recent call last)",
      "\u001b[1;32m/Users/greyxray/Downloads/mlflow-course/test.ipynb Cell 2\u001b[0m line \u001b[0;36m1\n\u001b[1;32m      <a href='vscode-notebook-cell:/Users/greyxray/Downloads/mlflow-course/test.ipynb#W1sZmlsZQ%3D%3D?line=8'>9</a>\u001b[0m \u001b[39m# Predict on a Pandas DataFrame.\u001b[39;00m\n\u001b[1;32m     <a href='vscode-notebook-cell:/Users/greyxray/Downloads/mlflow-course/test.ipynb#W1sZmlsZQ%3D%3D?line=9'>10</a>\u001b[0m \u001b[39mimport\u001b[39;00m \u001b[39mpandas\u001b[39;00m \u001b[39mas\u001b[39;00m \u001b[39mpd\u001b[39;00m\n\u001b[0;32m---> <a href='vscode-notebook-cell:/Users/greyxray/Downloads/mlflow-course/test.ipynb#W1sZmlsZQ%3D%3D?line=11'>12</a>\u001b[0m loaded_model\u001b[39m.\u001b[39mpredict(pd\u001b[39m.\u001b[39mDataFrame(data))\n",
      "\u001b[0;31mNameError\u001b[0m: name 'data' is not defined"
     ]
    }
   ],
   "source": [
    "import mlflow\n",
    "\n",
    "mlflow.set_tracking_uri(\"http://127.0.0.1:8080\")\n",
    "logged_model = \"runs:/cec684c0d0b14a4f9325c3151c7085ea/model\"\n",
    "\n",
    "# Load model as a PyFuncModel.\n",
    "loaded_model = mlflow.pyfunc.load_model(logged_model)\n",
    "\n",
    "# Predict on a Pandas DataFrame.\n",
    "import pandas as pd\n",
    "\n",
    "loaded_model.predict(pd.DataFrame(data))"
   ]
  }
 ],
 "metadata": {
  "kernelspec": {
   "display_name": "mlflow-course-bLMXevQE-py3.11",
   "language": "python",
   "name": "python3"
  },
  "language_info": {
   "codemirror_mode": {
    "name": "ipython",
    "version": 3
   },
   "file_extension": ".py",
   "mimetype": "text/x-python",
   "name": "python",
   "nbconvert_exporter": "python",
   "pygments_lexer": "ipython3",
   "version": "3.11.1"
  }
 },
 "nbformat": 4,
 "nbformat_minor": 2
}
